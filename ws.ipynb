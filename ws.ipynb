{
 "cells": [
  {
   "source": [
    "import wealthsimple as ws\n",
    "\n",
    "def my_two_factor_function():\n",
    "    MFACode = \"\"\n",
    "    while not MFACode:\n",
    "        # Obtain user input and ensure it is not empty\n",
    "        MFACode = input(\"Enter 2FA code: \")\n",
    "    return MFACode\n",
    "\n",
    "with open('credentials', 'r') as cred:\n",
    "    lines = list(l.replace('\\n', '') for l in cred.readlines())\n",
    "    trader = ws.WSTrade(lines[0], lines[1],\n",
    "    two_factor_callback=my_two_factor_function,\n",
    "    )"
   ],
   "cell_type": "code",
   "metadata": {},
   "execution_count": 2,
   "outputs": []
  },
  {
   "cell_type": "code",
   "execution_count": null,
   "metadata": {},
   "outputs": [],
   "source": [
    "lst = trader.get_accounts()\n",
    "for x in lst:\n",
    "    print(x) "
   ]
  }
 ],
 "metadata": {
  "kernelspec": {
   "name": "python3",
   "display_name": "Python 3.6.13 64-bit ('stk': conda)"
  },
  "interpreter": {
   "hash": "519d6f1eba0edbaf1c57e471b172f5ad66965e5891c480f66d43b749c8e13a59"
  }
 },
 "nbformat": 4,
 "nbformat_minor": 5
}